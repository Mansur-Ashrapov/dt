{
  "cells": [
    {
      "cell_type": "markdown",
      "metadata": {
        "id": "M-DGa20PaHnu"
      },
      "source": [
        "#Задача 1\n",
        "Написать функцию на вход которой подается строка, состоящая из латинских букв.\n",
        "Функция должна вернуть количество гласных букв (a, e, i, o, u) в этой строке. Написать тесты для кода"
      ]
    },
    {
      "cell_type": "code",
      "execution_count": 4,
      "metadata": {
        "id": "XvX8X_JJ6PCb"
      },
      "outputs": [],
      "source": [
        "# Your code goes here\n",
        "\n",
        "def get_wovels(text: str) -> dict[str, int]:\n",
        "    res = {'a': 0, 'e': 0, 'i': 0, 'o': 0, 'u': 0}\n",
        "    for letter in text:\n",
        "        if res.get(letter.lower()) is not None:\n",
        "            res[letter.lower()] += 1\n",
        "    return res\n",
        "\n",
        "assert get_wovels(\"text\") == {\"a\": 0, \"e\": 1, \"i\": 0, \"o\": 0, \"u\": 0}\n",
        "assert get_wovels(\"aeoOiu\") == {\"a\": 1, \"e\": 1, \"i\": 1, \"o\": 2, \"u\": 1}\n",
        "\n"
      ]
    },
    {
      "cell_type": "markdown",
      "metadata": {
        "id": "t2ClV_Y0bbr6"
      },
      "source": [
        "# Задача 2\n",
        "Написать функцию на вход, которой подается строка. Функция должна вернуть true, если\n",
        "каждый символ в строке встречается только 1 раз, иначе должна вернуть false. Написать тесты для кода"
      ]
    },
    {
      "cell_type": "code",
      "execution_count": 10,
      "metadata": {
        "id": "FppbECao6VIz"
      },
      "outputs": [],
      "source": [
        "# Your code goes here\n",
        "\n",
        "def task2(text: str) -> bool:\n",
        "    return len(set(text)) == len(text) \n",
        "\n",
        "assert task2(\"text\") == False\n",
        "assert task2(\"texE\") == True\n"
      ]
    },
    {
      "cell_type": "markdown",
      "metadata": {
        "id": "udRiIK1cdt6E"
      },
      "source": [
        "# Задача 3\n",
        "Написать функцию, которая принимает положительное число и возвращает количество\n",
        "бит равных 1 в этом числе. Написать тесты для кода"
      ]
    },
    {
      "cell_type": "code",
      "execution_count": 12,
      "metadata": {
        "id": "6tkfDJRz6dp_"
      },
      "outputs": [],
      "source": [
        "# Your code goes here\n",
        "\n",
        "def count_bit_in_number(number: int) -> int: \n",
        "    return(bin(number).count('1'))\n",
        "\n",
        "assert count_bit_in_number(2) == 1\n",
        "assert count_bit_in_number(129) == 2\n"
      ]
    },
    {
      "cell_type": "markdown",
      "metadata": {
        "id": "26dDUz-Ae17N"
      },
      "source": [
        "# Задача 4\n",
        "Написать функцию, которая принимает положительное число. Функция должна вернуть то,\n",
        "сколько раз необходимо перемножать цифры числа или результат перемножения, чтобы\n",
        "получилось число состоящее из одной цифры.\n",
        "Например, для входного числа:\n",
        "· 39 функция должна вернуть 3, так как 3*9=27 => 2*7=14 => 1*4=4\n",
        "· 4 функция должна вернуть 0, так как число уже состоит из одной цифры\n",
        "· 999 функция должна вернуть 4, так как 9*9*9=729 => 7*2*9=126 => 1*2*6=12 =>\n",
        "1*2=2. Написать тесты для кода"
      ]
    },
    {
      "cell_type": "code",
      "execution_count": 15,
      "metadata": {
        "id": "BH1A_Mgi6i4G"
      },
      "outputs": [],
      "source": [
        "from functools import reduce\n",
        "\n",
        "def magic(n):\n",
        "    count = 0\n",
        "    while len(str(n)) > 1:\n",
        "        count += 1\n",
        "        n = reduce(lambda prev, cur: prev*cur, map(int, str(n)))\n",
        "    return count\n",
        "         \n",
        "assert magic(999) == 4\n",
        "assert magic(39) == 3\n",
        "\n"
      ]
    },
    {
      "cell_type": "markdown",
      "metadata": {
        "id": "0nS-kIa8g8vd"
      },
      "source": [
        "# Задача 5\n",
        "Написать функцию, которая принимает два целочисленных вектора одинаковой длины и\n",
        "возвращает среднеквадратическое отклонение двух векторов. Написать тесты для кода"
      ]
    },
    {
      "cell_type": "code",
      "execution_count": 17,
      "metadata": {
        "id": "8iphx4LM6xbx"
      },
      "outputs": [],
      "source": [
        "def mse(pred, true):\n",
        "    # Your code goes here\n",
        "    sum = 0\n",
        "    for x, y in zip(pred, true):\n",
        "      sum += (y - x) * (y - x)\n",
        "    return sum / len(pred)\n",
        "\n",
        "assert mse([1, 2], [2, 1]) == 1"
      ]
    },
    {
      "cell_type": "markdown",
      "metadata": {
        "id": "vpIPKL439zkw"
      },
      "source": [
        "# Задача 6\n",
        "Написать функцию, принимающая целое положительное число. Функция должна вернуть\n",
        "строку вида “(n1**p1)(n2**p2)…(nk**pk)” представляющая разложение числа на простые\n",
        "множители (если pi == 1, то выводить только ni).\n",
        "Например, для числа 86240 функция должна вернуть “(2**5)(5)(7**2)(11)”. Написать тесты для кода"
      ]
    },
    {
      "cell_type": "code",
      "execution_count": 29,
      "metadata": {
        "id": "pFebmcZk94Jw"
      },
      "outputs": [],
      "source": [
        "import math\n",
        "\n",
        "def add_number(dict_nums, num):\n",
        "    if dict_nums.get(num) is not None:\n",
        "        dict_nums[num] += 1\n",
        "    else:\n",
        "        dict_nums[num] = 1      \n",
        "\n",
        "def six(number):\n",
        "    res = {}\n",
        "    for i in range(2, int(math.sqrt(number) + 1)):\n",
        "        while number % i == 0:\n",
        "            add_number(res, i)\n",
        "            number /= i\n",
        "    if number != 1:\n",
        "        add_number(res, int(number))\n",
        "    return \"\".join([f\"({k}{'**' + str(v) if v > 1 else ''})\" for k, v in res.items()])\n",
        "\n",
        "\n",
        "assert six(86240) == \"(2**5)(5)(7**2)(11)\"\n",
        "assert six(20) == \"(2**2)(5)\"\n"
      ]
    },
    {
      "cell_type": "markdown",
      "metadata": {
        "id": "ps2s0BudX7A2"
      },
      "source": [
        "# Задача 7\n",
        "Написать функцию, принимающая целое число n, задающее количество кубиков. Функция\n",
        "должна определить, можно ли из данного кол-ва кубиков построить пирамиду, то есть\n",
        "можно ли представить число n как 1^2+2^2+3^2+…+k^2. Если можно, то функция должна\n",
        "вернуть k, иначе строку “It is impossible”. Написать тесты для кода"
      ]
    },
    {
      "cell_type": "code",
      "execution_count": 47,
      "metadata": {
        "id": "3YPjEXxhX_YT"
      },
      "outputs": [],
      "source": [
        "def pyramid_height(number):\n",
        "    temp = 1\n",
        "    res = 0\n",
        "    while True:\n",
        "      res += temp*temp\n",
        "      if res == number:\n",
        "        return temp\n",
        "      if res > number:\n",
        "        return \"It is impossible\"\n",
        "      temp += 1\n",
        "\n",
        "assert pyramid_height(1) == 1\n",
        "assert pyramid_height(2) == \"It is impossible\"\n",
        "assert pyramid_height(5) == 2\n",
        "assert pyramid_height(14) == 3\n",
        "\n"
      ]
    },
    {
      "cell_type": "markdown",
      "metadata": {
        "id": "KeKgmIdAQMEJ"
      },
      "source": [
        "# Задача 8\n",
        "Функция принимает на вход положительное число и определяет является ли оно сбалансированным, т.е. сумма цифр до средних равна сумме цифр после. Средними в случае нечетного числа цифр считать одну цифру, в случае четного - две средних. Написать тесты для кода"
      ]
    },
    {
      "cell_type": "code",
      "execution_count": 71,
      "metadata": {
        "id": "gMAAqtqlQrZt"
      },
      "outputs": [
        {
          "name": "stdout",
          "output_type": "stream",
          "text": [
            "['2', '5']\n",
            "['2']\n",
            "['1']\n"
          ]
        }
      ],
      "source": [
        "def eight(num):\n",
        "    count = int(len(str(num))/ 2)\n",
        "    count -= 1 if len(str(num)) % 2 == 0 else 0\n",
        "    return sum(map(int, str(num)[:count])) == sum(map(int, list(reversed(str(num)))[:count]))\n",
        "\n",
        "assert eight(611152) == True\n",
        "assert eight(112) == False\n",
        "assert eight(111) == True\n"
      ]
    }
  ],
  "metadata": {
    "colab": {
      "provenance": []
    },
    "kernelspec": {
      "display_name": "Python 3",
      "name": "python3"
    },
    "language_info": {
      "codemirror_mode": {
        "name": "ipython",
        "version": 3
      },
      "file_extension": ".py",
      "mimetype": "text/x-python",
      "name": "python",
      "nbconvert_exporter": "python",
      "pygments_lexer": "ipython3",
      "version": "3.10.0"
    }
  },
  "nbformat": 4,
  "nbformat_minor": 0
}
