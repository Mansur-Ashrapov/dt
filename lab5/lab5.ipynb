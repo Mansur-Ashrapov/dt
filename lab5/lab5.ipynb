{
  "cells": [
    {
      "cell_type": "markdown",
      "id": "cfa87c9f-dd5d-4cf7-a9f4-50de4b36ce40",
      "metadata": {
        "id": "cfa87c9f-dd5d-4cf7-a9f4-50de4b36ce40"
      },
      "source": [
        "## Классификация изображений\n",
        "### Вводные слова\n",
        "Задача классификации изображений - это одна из ключевых задач в области компьютерного зрения и машинного обучения. Она заключается в том, чтобы разработать модель, способную автоматически определить, к какому классу или категории принадлежит данное изображение. Классификация используется в следующих задачах: классификация спектрограмм музыкальных записей для выявления предпочтений конкретного пользователя, классификация изображений для автоматической идентификации людей на фотографиях, кластеризация покупок пользователя в интернет-магазине для формирования целевой рекламы, и так далее\n",
        "### Рекомендации\n",
        "Работу лучше выполнять в среде Google Colab, поскольку потребуется осуществлять вычисления на видеокарте. В Colab в меню нажмите на Изменить->Настройки блокнота и выберите доступный GPU. Это позволит использовать для обучения CUDA\n",
        "### Цель работы и задачи\n",
        "В данной работе мы разработаем модель, для предсказания класса на датасете cifar-10. Ниже будет представлена baseline модель, основываясь на которой вы можете строить свою модель для классификации\n",
        "\\\n",
        "Задачи, которые вам нужно решить в работе:\n",
        "\\\n",
        "Обязательные:\n",
        "- Построить распределение классов в данных\n",
        "- Подготовить данные и обучить baseline-модель на датасете\n",
        "- Оценить качество модели\n",
        "- Написать свою модель и обучить ее\n",
        "\n",
        "Желательные:\n",
        "- Подумать об архитектуре модели, быть может стоит сделать ее глубже, добавить боковые связи и т.д.\n",
        "- Задуматься об аугментации\n",
        "- Попробовать transfer-learning\n",
        "\n",
        "\\\n",
        "\\\n",
        "Ваша работа будет оцениваться исходя из 2 факторов:\n",
        "- контрольная метрика\n",
        "- протокол исследования, которым и будет служить этот Jupyter-Notebook\n",
        "\n",
        "\\\n",
        "Максимальный балл за работу - 20.\n",
        "\\\n",
        "Удачи!"
      ]
    },
    {
      "cell_type": "markdown",
      "id": "f7e69704-f4ce-4b25-98ce-5e98630a389d",
      "metadata": {
        "id": "f7e69704-f4ce-4b25-98ce-5e98630a389d"
      },
      "source": [
        "## Baseline-модель"
      ]
    },
    {
      "cell_type": "code",
      "execution_count": 1,
      "id": "e06b4054-5e95-4ce5-96b0-e0817d64e809",
      "metadata": {
        "id": "e06b4054-5e95-4ce5-96b0-e0817d64e809"
      },
      "outputs": [],
      "source": [
        "import torch\n",
        "from tqdm import tqdm\n",
        "import torch.nn as nn\n",
        "import torch.optim as optim\n",
        "import torchvision\n",
        "import torchvision.transforms as transforms\n",
        "import matplotlib.pyplot as plt\n",
        "import numpy as np\n",
        "from sklearn.model_selection import train_test_split\n",
        "from torch.functional import F"
      ]
    },
    {
      "cell_type": "markdown",
      "id": "cbb6abc6-ee2d-408a-8521-11c9602e63ce",
      "metadata": {
        "id": "cbb6abc6-ee2d-408a-8521-11c9602e63ce"
      },
      "source": [
        "Обучать мы будем, разумеется, на cuda, поэтому, создадим переменную device, которая будет зависеть от того, доступна ли видеокарта для вычислений"
      ]
    },
    {
      "cell_type": "code",
      "execution_count": 2,
      "id": "17f8d12f-a0c3-44e7-912f-59485c4146c7",
      "metadata": {
        "colab": {
          "base_uri": "https://localhost:8080/"
        },
        "id": "17f8d12f-a0c3-44e7-912f-59485c4146c7",
        "outputId": "b52724b7-245a-491f-f95e-48b9ace41de4"
      },
      "outputs": [
        {
          "name": "stdout",
          "output_type": "stream",
          "text": [
            "Running on cuda\n",
            "Downloading https://www.cs.toronto.edu/~kriz/cifar-10-python.tar.gz to ./data/cifar-10-python.tar.gz\n"
          ]
        },
        {
          "name": "stderr",
          "output_type": "stream",
          "text": [
            "100%|██████████| 170498071/170498071 [00:13<00:00, 12628049.83it/s]\n"
          ]
        },
        {
          "name": "stdout",
          "output_type": "stream",
          "text": [
            "Extracting ./data/cifar-10-python.tar.gz to ./data\n",
            "0.49139968 0.48215827 0.44653124\n",
            "0.24703233 0.24348505 0.26158768\n"
          ]
        }
      ],
      "source": [
        "device = torch.device('cuda' if torch.cuda.is_available() else 'cpu')\n",
        "print(f'Running on {device}')\n",
        "\n",
        "# Функция для подсчета числа параметров\n",
        "def count_parameters(model):\n",
        "    return sum(p.numel() for p in model.parameters() if p.requires_grad)\n",
        "\n",
        "cifar_trainset = torchvision.datasets.CIFAR10(root='./data', train=True, download=True, transform=transforms.ToTensor())\n",
        "\n",
        "imgs = [item[0] for item in cifar_trainset] # item[0] and item[1] are image and its label\n",
        "imgs = torch.stack(imgs, dim=0).numpy()\n",
        "\n",
        "# calculate mean over each channel (r,g,b)\n",
        "mean_r = imgs[:,0,:,:].mean()\n",
        "mean_g = imgs[:,1,:,:].mean()\n",
        "mean_b = imgs[:,2,:,:].mean()\n",
        "print(mean_r,mean_g,mean_b)\n",
        "\n",
        "# calculate std over each channel (r,g,b)\n",
        "std_r = imgs[:,0,:,:].std()\n",
        "std_g = imgs[:,1,:,:].std()\n",
        "std_b = imgs[:,2,:,:].std()\n",
        "print(std_r,std_g,std_b)"
      ]
    },
    {
      "cell_type": "code",
      "execution_count": null,
      "id": "VdfliKcMYbtl",
      "metadata": {
        "id": "VdfliKcMYbtl"
      },
      "outputs": [],
      "source": []
    },
    {
      "cell_type": "code",
      "execution_count": 79,
      "id": "76fc0bb5-d955-4516-a47d-16b29c29a0af",
      "metadata": {
        "id": "76fc0bb5-d955-4516-a47d-16b29c29a0af"
      },
      "outputs": [],
      "source": [
        "            # transforms.Normalize([0.49139968, 0.48215827, 0.44653124], [0.24703233, 0.24348505, 0.26158768]),\n",
        "            # transforms.Normalize([0.5074,0.4867,0.4411],[0.2011,0.1987,0.2025]),\n",
        "def conv_block(in_chan, out_chan, pool=False):\n",
        "    layers = [nn.Conv2d(in_chan, out_chan, kernel_size=3, padding=1),\n",
        "              nn.BatchNorm2d(out_chan),\n",
        "              nn.ReLU()]\n",
        "    if pool:\n",
        "        conv = layers.append(nn.MaxPool2d(2))\n",
        "    return nn.Sequential(*layers)\n",
        "\n",
        "class ResNET(nn.Module):\n",
        "    def __init__(self):\n",
        "        super(ResNET, self).__init__()\n",
        "        self.conv1 = conv_block(3, 64)\n",
        "        self.conv2 = conv_block(64, 128, True)\n",
        "        self.res1 = nn.Sequential(conv_block(128, 128), conv_block(128, 128))\n",
        "        self.conv3 = conv_block(128, 196)\n",
        "        self.conv4 = conv_block(196, 256, True)\n",
        "        self.res2 = nn.Sequential(conv_block(256, 256), conv_block(256, 256))\n",
        "        self.conv5 = conv_block(256, 384)\n",
        "        self.conv6 = conv_block(384, 512, True)\n",
        "        self.res3 = nn.Sequential(conv_block(512, 512), conv_block(512, 512))\n",
        "\n",
        "        self.classifier = nn.Sequential(nn.MaxPool2d(4),\n",
        "                                        nn.Flatten(),\n",
        "                                        nn.Linear(512, 10))\n",
        "\n",
        "    def forward(self, input):\n",
        "        out = self.conv1(input)\n",
        "        out = self.conv2(out)\n",
        "        out = self.res1(out) + out\n",
        "        out = self.conv3(out)\n",
        "        out = self.conv4(out)\n",
        "        out = self.res2(out) + out\n",
        "        out = self.conv5(out)\n",
        "        out = self.conv6(out)\n",
        "        out = self.res3(out) + out\n",
        "        out = self.classifier(out)\n",
        "        return out"
      ]
    },
    {
      "cell_type": "markdown",
      "id": "66a75636-3a12-42d0-a050-51b79b9b76ba",
      "metadata": {
        "id": "66a75636-3a12-42d0-a050-51b79b9b76ba"
      },
      "source": [
        "Загрузим данные, построим диаграммы для распределения классов и посмотрим на сами картинки"
      ]
    },
    {
      "cell_type": "code",
      "execution_count": 52,
      "id": "552abcaa-ae9a-4f77-a0b7-05311057d3cb",
      "metadata": {
        "colab": {
          "base_uri": "https://localhost:8080/"
        },
        "id": "552abcaa-ae9a-4f77-a0b7-05311057d3cb",
        "outputId": "b9d8b7a1-c9d1-4e09-869d-6fefa24dead0"
      },
      "outputs": [
        {
          "name": "stdout",
          "output_type": "stream",
          "text": [
            "Files already downloaded and verified\n",
            "Files already downloaded and verified\n",
            "Files already downloaded and verified\n"
          ]
        }
      ],
      "source": [
        "# Будем превращать картинку в torch.Tensor\n",
        "transform_test = transforms.Compose(\n",
        "    [\n",
        "        transforms.Resize(32),\n",
        "        transforms.ToTensor(),\n",
        "        transforms.Normalize([0.5074,0.4867,0.4411],[0.2011,0.1987,0.2025])\n",
        "\n",
        "    ]\n",
        ")\n",
        "transform_train = transforms.Compose(\n",
        "    [\n",
        "        transforms.Resize(32),\n",
        "        transforms.RandAugment(),\n",
        "        transforms.ToTensor(),\n",
        "        transforms.Normalize([0.5074,0.4867,0.4411],[0.2011,0.1987,0.2025])\n",
        "    ]\n",
        ")\n",
        "\n",
        "# transform_train_sec = transforms.Compose(\n",
        "#     [\n",
        "#         transforms.Resize(32),\n",
        "#         transforms.RandomRotation(degrees=(-30, 30)),\n",
        "#         transforms.ToTensor(),\n",
        "#         transforms.Normalize([0.5074,0.4867,0.4411],[0.2011,0.1987,0.2025])\n",
        "#     ]\n",
        "# )\n",
        "\n",
        "\n",
        "# Загрузим датасеты для train и test\n",
        "train_dataset_first = torchvision.datasets.CIFAR10(root='./data', train=True, transform=transform_train, download=True)\n",
        "# train_dataset_sec = torchvision.datasets.CIFAR10(root='./data', train=True, transform=transform_train_sec, download=True)\n",
        "train_dataset_third = torchvision.datasets.CIFAR10(root='./data', train=True, transform=transform_test, download=True)\n",
        "train_dataset = train_dataset_first + train_dataset_third\n",
        "\n",
        "test_dataset = torchvision.datasets.CIFAR10(root='./data', train=False, transform=transform_test, download=True)\n",
        "\n",
        "# Получим метки классов\n",
        "# class_labels = train_dataset.classes\n",
        "# class_counts = np.array([0] * len(class_labels))\n",
        "\n",
        "# # Посчитаем число меток классов\n",
        "# for _, label in train_dataset:\n",
        "#     class_counts[label] += 1\n",
        "\n",
        "# class_counts = class_counts / class_counts.sum() * 100\n",
        "\n",
        "# # Построим диаграмму\n",
        "# plt.figure(figsize=(10, 8))\n",
        "# plt.bar(class_labels, class_counts)\n",
        "# plt.xlabel('Классы')\n",
        "# plt.ylabel('Количество изображений, %')\n",
        "# plt.title('Распределение классов в датасете CIFAR-10')\n",
        "# plt.xticks(rotation=45)\n",
        "# plt.tight_layout()\n",
        "# plt.show()"
      ]
    },
    {
      "cell_type": "code",
      "execution_count": 13,
      "id": "f4505ddd-6bdb-42eb-9d83-c78091a824b4",
      "metadata": {
        "colab": {
          "base_uri": "https://localhost:8080/",
          "height": 831
        },
        "id": "f4505ddd-6bdb-42eb-9d83-c78091a824b4",
        "outputId": "c4a77e77-d9b4-44de-d4af-bb55bb48c5ae"
      },
      "outputs": [
        {
          "name": "stderr",
          "output_type": "stream",
          "text": [
            "WARNING:matplotlib.image:Clipping input data to the valid range for imshow with RGB data ([0..1] for floats or [0..255] for integers).\n",
            "WARNING:matplotlib.image:Clipping input data to the valid range for imshow with RGB data ([0..1] for floats or [0..255] for integers).\n",
            "WARNING:matplotlib.image:Clipping input data to the valid range for imshow with RGB data ([0..1] for floats or [0..255] for integers).\n",
            "WARNING:matplotlib.image:Clipping input data to the valid range for imshow with RGB data ([0..1] for floats or [0..255] for integers).\n",
            "WARNING:matplotlib.image:Clipping input data to the valid range for imshow with RGB data ([0..1] for floats or [0..255] for integers).\n",
            "WARNING:matplotlib.image:Clipping input data to the valid range for imshow with RGB data ([0..1] for floats or [0..255] for integers).\n",
            "WARNING:matplotlib.image:Clipping input data to the valid range for imshow with RGB data ([0..1] for floats or [0..255] for integers).\n",
            "WARNING:matplotlib.image:Clipping input data to the valid range for imshow with RGB data ([0..1] for floats or [0..255] for integers).\n",
            "WARNING:matplotlib.image:Clipping input data to the valid range for imshow with RGB data ([0..1] for floats or [0..255] for integers).\n"
          ]
        },
        {
          "data": {
            "image/png": "[encoded data removed]",
            "text/plain": [
              "<Figure size 800x800 with 9 Axes>"
            ]
          },
          "metadata": {},
          "output_type": "display_data"
        }
      ],
      "source": [
        "indices = np.random.choice(len(train_dataset), 9, replace=False)\n",
        "\n",
        "# Создайте сетку 3x3 для отображения изображений\n",
        "fig, axes = plt.subplots(3, 3, figsize=(8, 8))\n",
        "for i, ax in enumerate(axes.flat):\n",
        "    image, label = train_dataset[indices[i]]\n",
        "    image = image.numpy().transpose((1, 2, 0))  # Перевести изображение из формата (C, H, W) в (H, W, C)\n",
        "    ax.imshow(image)\n",
        "    ax.set_title(f'Label: {label}')\n",
        "    ax.axis('off')\n",
        "\n",
        "plt.show()"
      ]
    },
    {
      "cell_type": "markdown",
      "id": "2d176f3c-b153-4ed8-8963-b268f7b5972f",
      "metadata": {
        "id": "2d176f3c-b153-4ed8-8963-b268f7b5972f"
      },
      "source": [
        "Сделайте вывод о сбалансированности датасета:\n",
        "\\\n",
        "Исходя из этого, какие метрики будем применять для оценки качества модели?"
      ]
    },
    {
      "cell_type": "markdown",
      "id": "f411c3aa-4894-40f4-9f2e-5cab17405d05",
      "metadata": {
        "id": "f411c3aa-4894-40f4-9f2e-5cab17405d05"
      },
      "source": [
        "Напишем функции train и test"
      ]
    },
    {
      "cell_type": "code",
      "execution_count": 6,
      "id": "85dd72a1-ff5a-493e-be70-da9af9efcc22",
      "metadata": {
        "id": "85dd72a1-ff5a-493e-be70-da9af9efcc22"
      },
      "outputs": [],
      "source": [
        "def train(model, train_loader, val_loader, criterion, optimizer, device, scheduler, epochs=10):\n",
        "    model.train()\n",
        "    model = model.to(device)\n",
        "    train_loss_history = []\n",
        "    train_acc_history = []\n",
        "    val_loss_history = []\n",
        "    val_acc_history = []\n",
        "    for epoch in range(epochs):\n",
        "        running_loss = 0.0\n",
        "        correct = 0\n",
        "        total = 0\n",
        "        pbar = tqdm(enumerate(train_loader), total=len(train_loader), ncols=100, desc='Train epoch {}/{}'.format(epoch + 1, epochs))\n",
        "        for batch_idx, (inputs, labels) in pbar:\n",
        "            inputs, labels = inputs.to(device), labels.to(device)\n",
        "            # Занулите градиенты оптимизатора\n",
        "            optimizer.zero_grad()\n",
        "            # Прямой проход\n",
        "            outputs = model(inputs)\n",
        "            loss = criterion(outputs, labels)\n",
        "\n",
        "            # Сделайте обратный проход\n",
        "            loss.backward()\n",
        "            # Сделайте шаг оптимизации\n",
        "            optimizer.step()\n",
        "\n",
        "            running_loss += loss.item()\n",
        "\n",
        "            # Вычислите точность предсказания\n",
        "            _, predicted = torch.max(outputs.data, 1)\n",
        "            total += labels.size(0)\n",
        "            correct += torch.sum(predicted == labels).item()\n",
        "            pbar.set_postfix({'loss': '{:.4f}'.format(running_loss / (batch_idx + 1)), 'accuracy': '{:.4f}'.format(correct / total)})\n",
        "            scheduler.step()\n",
        "\n",
        "        train_loss_history.append(running_loss / len(train_loader))\n",
        "        train_acc_history.append(correct / total)\n",
        "        correct = 0\n",
        "        total = 0\n",
        "        test_loss = 0.0\n",
        "        pbar = tqdm(enumerate(val_loader), total=len(val_loader), ncols=100, desc='Val {}/{}'.format(epoch + 1, epochs))\n",
        "        model.eval()\n",
        "        with torch.no_grad():\n",
        "            for batch_idx, (inputs, labels) in pbar:\n",
        "                inputs, labels = inputs.to(device), labels.to(device)\n",
        "                outputs = model(inputs)\n",
        "                loss = criterion(outputs, labels)\n",
        "                test_loss += loss.item()\n",
        "                _, predicted = torch.max(outputs.data, 1)\n",
        "                total += labels.size(0)\n",
        "                correct += torch.sum(predicted == labels).item()\n",
        "                pbar.set_postfix({'loss': '{:.4f}'.format(test_loss / (batch_idx + 1)), 'accuracy': '{:.4f}'.format(correct / total)})\n",
        "                model.train()\n",
        "\n",
        "        val_loss_history.append(test_loss / len(val_loader))\n",
        "        val_acc_history.append(correct / total)\n",
        "\n",
        "    return train_loss_history, train_acc_history, val_loss_history, val_acc_history\n",
        "\n",
        "def test(model, test_loader, criterion, device):\n",
        "    model.eval()\n",
        "    correct = 0\n",
        "    total = 0\n",
        "    test_loss = 0.0\n",
        "    with torch.no_grad():\n",
        "        for inputs, labels in test_loader:\n",
        "            inputs, labels = inputs.to(device), labels.to(device)\n",
        "            outputs = model(inputs)\n",
        "            loss = criterion(outputs, labels)\n",
        "            test_loss += loss.item()\n",
        "            _, predicted = torch.max(outputs.data, 1)\n",
        "            total += labels.size(0)\n",
        "            correct += torch.sum(predicted == labels).item()\n",
        "\n",
        "    accuracy = correct / total\n",
        "    average_loss = test_loss / len(test_loader)\n",
        "\n",
        "    return accuracy, average_loss"
      ]
    },
    {
      "cell_type": "markdown",
      "id": "1aba5730-5f22-4715-b181-5d3878fa12bc",
      "metadata": {
        "id": "1aba5730-5f22-4715-b181-5d3878fa12bc"
      },
      "source": [
        "Сделайте разделение на train и val\n",
        "\\\n",
        "Зачем так делать?"
      ]
    },
    {
      "cell_type": "code",
      "execution_count": 54,
      "id": "e53ab630-8224-4d2f-9d02-79ab163d3fd1",
      "metadata": {
        "id": "e53ab630-8224-4d2f-9d02-79ab163d3fd1"
      },
      "outputs": [],
      "source": [
        "train_size = int(0.7 * len(train_dataset))\n",
        "val_size = len(train_dataset) - train_size\n",
        "\n",
        "train_dataset, val_dataset = train_test_split(train_dataset, test_size=val_size, random_state=42, shuffle=True)"
      ]
    },
    {
      "cell_type": "markdown",
      "id": "d0108c36-a287-410a-a4db-ec018503f113",
      "metadata": {
        "id": "d0108c36-a287-410a-a4db-ec018503f113"
      },
      "source": [
        "Создайте Dataloader'ы и настройте гиперпараметры, оптимизатор и функцию потерь\n",
        "\\\n",
        "Какой оптимизатор будете использовать и почему, а какую loss-функцию?"
      ]
    },
    {
      "cell_type": "code",
      "execution_count": 80,
      "id": "2a4a9cbd-5969-4bac-8fa0-9f5415082b2b",
      "metadata": {
        "colab": {
          "base_uri": "https://localhost:8080/"
        },
        "id": "2a4a9cbd-5969-4bac-8fa0-9f5415082b2b",
        "outputId": "ad5c4be1-17f6-46a7-b69e-c388100244e3"
      },
      "outputs": [
        {
          "name": "stdout",
          "output_type": "stream",
          "text": [
            "Model params:  9615318\n"
          ]
        }
      ],
      "source": [
        "# Гиперпараметры\n",
        "learning_rate = 0.01\n",
        "weight_decay = 1e-4\n",
        "num_epochs = 10\n",
        "batch_size = 300\n",
        "\n",
        "model = ResNET()\n",
        "\n",
        "print('Model params: ', count_parameters(model))\n",
        "\n",
        "\n",
        "train_loader = torch.utils.data.DataLoader(train_dataset, batch_size=batch_size, shuffle=True)\n",
        "val_loader = torch.utils.data.DataLoader(val_dataset, batch_size=batch_size, shuffle=True)\n",
        "test_loader = torch.utils.data.DataLoader(test_dataset, batch_size=batch_size, shuffle=False)\n",
        "\n",
        "\n",
        "criterion = nn.CrossEntropyLoss()\n",
        "optimizer = optim.NAdam(model.parameters(), lr=learning_rate, weight_decay=weight_decay)\n",
        "scheduler = optim.lr_scheduler.OneCycleLR(optimizer, learning_rate, epochs=num_epochs,\n",
        "                                                steps_per_epoch=len(train_loader))\n"
      ]
    },
    {
      "cell_type": "markdown",
      "id": "6f1ff197-828a-4eda-ac8d-6a07d9597db5",
      "metadata": {
        "id": "6f1ff197-828a-4eda-ac8d-6a07d9597db5"
      },
      "source": [
        "Обучите модель и постройте графики обучения"
      ]
    },
    {
      "cell_type": "code",
      "execution_count": 81,
      "id": "f7508531-309f-4e77-8c98-0c8e41005eb1",
      "metadata": {
        "colab": {
          "base_uri": "https://localhost:8080/"
        },
        "id": "f7508531-309f-4e77-8c98-0c8e41005eb1",
        "outputId": "75bbfd22-656b-4a93-8d25-15408bf3a934"
      },
      "outputs": [
        {
          "name": "stderr",
          "output_type": "stream",
          "text": [
            "Train epoch 1/10: 100%|█████████████| 234/234 [00:47<00:00,  4.90it/s, loss=1.4210, accuracy=0.5181]\n",
            "Val 1/10: 100%|█████████████████████| 100/100 [00:07<00:00, 13.61it/s, loss=1.2760, accuracy=0.5992]\n",
            "Train epoch 2/10: 100%|█████████████| 234/234 [00:46<00:00,  5.04it/s, loss=1.0086, accuracy=0.6791]\n",
            "Val 2/10: 100%|█████████████████████| 100/100 [00:07<00:00, 13.41it/s, loss=1.1295, accuracy=0.6420]\n",
            "Train epoch 3/10: 100%|█████████████| 234/234 [00:46<00:00,  5.03it/s, loss=0.6378, accuracy=0.7844]\n",
            "Val 3/10: 100%|█████████████████████| 100/100 [00:07<00:00, 13.55it/s, loss=0.8588, accuracy=0.7167]\n",
            "Train epoch 4/10: 100%|█████████████| 234/234 [00:46<00:00,  5.05it/s, loss=0.4561, accuracy=0.8438]\n",
            "Val 4/10: 100%|█████████████████████| 100/100 [00:07<00:00, 13.54it/s, loss=0.6896, accuracy=0.7784]\n",
            "Train epoch 5/10: 100%|█████████████| 234/234 [00:47<00:00,  4.98it/s, loss=0.3517, accuracy=0.8779]\n",
            "Val 5/10: 100%|█████████████████████| 100/100 [00:07<00:00, 13.30it/s, loss=0.4656, accuracy=0.8439]\n",
            "Train epoch 6/10: 100%|█████████████| 234/234 [00:46<00:00,  5.06it/s, loss=0.2426, accuracy=0.9161]\n",
            "Val 6/10: 100%|█████████████████████| 100/100 [00:07<00:00, 13.52it/s, loss=0.4737, accuracy=0.8466]\n",
            "Train epoch 7/10: 100%|█████████████| 234/234 [00:46<00:00,  5.06it/s, loss=0.1437, accuracy=0.9512]\n",
            "Val 7/10: 100%|█████████████████████| 100/100 [00:07<00:00, 13.48it/s, loss=0.3289, accuracy=0.8949]\n",
            "Train epoch 8/10: 100%|█████████████| 234/234 [00:46<00:00,  5.06it/s, loss=0.0487, accuracy=0.9851]\n",
            "Val 8/10: 100%|█████████████████████| 100/100 [00:07<00:00, 13.47it/s, loss=0.2385, accuracy=0.9313]\n",
            "Train epoch 9/10: 100%|█████████████| 234/234 [00:46<00:00,  5.07it/s, loss=0.0078, accuracy=0.9986]\n",
            "Val 9/10: 100%|█████████████████████| 100/100 [00:07<00:00, 13.48it/s, loss=0.2155, accuracy=0.9431]\n",
            "Train epoch 10/10: 100%|████████████| 234/234 [00:46<00:00,  5.05it/s, loss=0.0013, accuracy=1.0000]\n",
            "Val 10/10: 100%|████████████████████| 100/100 [00:07<00:00, 13.49it/s, loss=0.2180, accuracy=0.9435]\n"
          ]
        }
      ],
      "source": [
        "train_loss_history, train_acc_history, val_loss_history, val_acc_history = train(model, train_loader, val_loader, criterion, optimizer, device, scheduler, num_epochs)"
      ]
    },
    {
      "cell_type": "code",
      "execution_count": 87,
      "id": "08dcb17e-73b3-451c-8298-835029326057",
      "metadata": {
        "colab": {
          "base_uri": "https://localhost:8080/",
          "height": 507
        },
        "id": "08dcb17e-73b3-451c-8298-835029326057",
        "outputId": "f9cc9a8f-b642-4cdd-aebf-11f0afa8efef"
      },
      "outputs": [
        {
          "data": {
            "image/png": "[encoded data removed]",
            "text/plain": [
              "<Figure size 1200x500 with 2 Axes>"
            ]
          },
          "metadata": {},
          "output_type": "display_data"
        }
      ],
      "source": [
        "epochs = range(1, len(train_loss_history) + 1)\n",
        "\n",
        "torch.save(model, 'net1.pkl')\n",
        "# График функции потерь на тренировочных данных\n",
        "plt.figure(figsize=(12, 5))\n",
        "plt.subplot(1, 2, 1)\n",
        "plt.plot(epochs, train_loss_history, 'b', label='Train Loss')\n",
        "plt.plot(epochs, val_loss_history, 'r', label='Validation Loss')\n",
        "plt.title('Train and Validation Loss')\n",
        "plt.xlabel('Epochs')\n",
        "plt.ylabel('Loss')\n",
        "plt.legend()\n",
        "\n",
        "# График точности на валидационных данных\n",
        "plt.subplot(1, 2, 2)\n",
        "plt.plot(epochs, train_acc_history, 'b', label='Train Accuracy')\n",
        "plt.plot(epochs, val_acc_history, 'g', label='Validation Accuracy')\n",
        "plt.title('Validation Accuracy')\n",
        "plt.xlabel('Epochs')\n",
        "plt.ylabel('Accuracy')\n",
        "plt.legend()\n",
        "\n",
        "plt.tight_layout()\n",
        "plt.show()"
      ]
    },
    {
      "cell_type": "markdown",
      "id": "a195b688-6baa-4c71-bc0c-5f90d7eed6da",
      "metadata": {
        "id": "a195b688-6baa-4c71-bc0c-5f90d7eed6da"
      },
      "source": [
        "Сделайте выводы о качестве обучения"
      ]
    },
    {
      "cell_type": "markdown",
      "id": "ff061f53-e474-4cb4-b34d-45f14546c400",
      "metadata": {
        "id": "ff061f53-e474-4cb4-b34d-45f14546c400"
      },
      "source": [
        "Оцените тестовую метрику на тестовых данных"
      ]
    },
    {
      "cell_type": "code",
      "execution_count": 82,
      "id": "68c54f83-e0a6-4e1c-87c7-b129028cae76",
      "metadata": {
        "colab": {
          "base_uri": "https://localhost:8080/"
        },
        "id": "68c54f83-e0a6-4e1c-87c7-b129028cae76",
        "outputId": "3dea4e09-a12e-4675-85f1-5cd02ad633e3"
      },
      "outputs": [
        {
          "name": "stdout",
          "output_type": "stream",
          "text": [
            "Test Loss: 0.3706\n",
            "Test Accuracy: 0.9114\n"
          ]
        }
      ],
      "source": [
        "test_acc, test_loss = test(model, test_loader, criterion, device)\n",
        "print('Test Loss: {:.4f}\\nTest Accuracy: {:.4f}'.format(test_loss, test_acc))"
      ]
    },
    {
      "cell_type": "markdown",
      "id": "06b78b24-c338-4e42-81ce-7c120d8fd420",
      "metadata": {
        "id": "06b78b24-c338-4e42-81ce-7c120d8fd420"
      },
      "source": [
        "## Что дальше?\n",
        "Теперь, когда у вас есть все необходимое - экспериментируйте. Можете изменить все что угодно, креативность поощряется. Используйте новые модели, loss-функции, аугментацию, ансамбли, выдумывайте все, что сможете"
      ]
    },
    {
      "cell_type": "markdown",
      "id": "5c373039-62ab-441a-84bc-473d3fa726d2",
      "metadata": {
        "id": "5c373039-62ab-441a-84bc-473d3fa726d2"
      },
      "source": [
        "## Критерии оценки\n",
        "Accuracy - на тестовых данных\n",
        "- $Accuracy \\leq 0.67$ - 0 баллов\n",
        "- $0.67 < Accuracy \\leq 0.72$ - 2 балла\n",
        "- $0.72 < Accuracy \\leq 0.77$ - 4 балла\n",
        "- $0.77 < Accuracy \\leq 0.82$ - 6 баллов\n",
        "- $0.82 < Accuracy \\leq 0.87$ - 8 баллов\n",
        "- $Accuracy > 0.87$ - 10 баллов"
      ]
    }
  ],
  "metadata": {
    "accelerator": "GPU",
    "colab": {
      "gpuType": "T4",
      "provenance": []
    },
    "kernelspec": {
      "display_name": "Python 3",
      "name": "python3"
    },
    "language_info": {
      "codemirror_mode": {
        "name": "ipython",
        "version": 3
      },
      "file_extension": ".py",
      "mimetype": "text/x-python",
      "name": "python",
      "nbconvert_exporter": "python",
      "pygments_lexer": "ipython3",
      "version": "3.10.0"
    }
  },
  "nbformat": 4,
  "nbformat_minor": 5
}
